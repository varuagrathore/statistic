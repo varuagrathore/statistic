{
 "cells": [
  {
   "cell_type": "markdown",
   "id": "4b59c70f",
   "metadata": {},
   "source": [
    "**Statistical Practical Implementation**\n",
    "\n",
    "Measure Of Central Tendency \n",
    "\n",
    "1.Mean\n",
    "\n",
    "2.Median\n",
    "\n",
    "3.Mode"
   ]
  },
  {
   "cell_type": "code",
   "execution_count": 1,
   "id": "047a89b8",
   "metadata": {},
   "outputs": [],
   "source": [
    "import numpy as np\n",
    "import pandas as pd"
   ]
  },
  {
   "cell_type": "code",
   "execution_count": 10,
   "id": "d866c594",
   "metadata": {},
   "outputs": [],
   "source": [
    "df =pd.read_csv('http://bit.ly/drinksbycountry')"
   ]
  },
  {
   "cell_type": "code",
   "execution_count": 11,
   "id": "21111bbe",
   "metadata": {},
   "outputs": [
    {
     "data": {
      "text/html": [
       "<div>\n",
       "<style scoped>\n",
       "    .dataframe tbody tr th:only-of-type {\n",
       "        vertical-align: middle;\n",
       "    }\n",
       "\n",
       "    .dataframe tbody tr th {\n",
       "        vertical-align: top;\n",
       "    }\n",
       "\n",
       "    .dataframe thead th {\n",
       "        text-align: right;\n",
       "    }\n",
       "</style>\n",
       "<table border=\"1\" class=\"dataframe\">\n",
       "  <thead>\n",
       "    <tr style=\"text-align: right;\">\n",
       "      <th></th>\n",
       "      <th>country</th>\n",
       "      <th>beer_servings</th>\n",
       "      <th>spirit_servings</th>\n",
       "      <th>wine_servings</th>\n",
       "      <th>total_litres_of_pure_alcohol</th>\n",
       "      <th>continent</th>\n",
       "    </tr>\n",
       "  </thead>\n",
       "  <tbody>\n",
       "    <tr>\n",
       "      <th>0</th>\n",
       "      <td>Afghanistan</td>\n",
       "      <td>0</td>\n",
       "      <td>0</td>\n",
       "      <td>0</td>\n",
       "      <td>0.0</td>\n",
       "      <td>Asia</td>\n",
       "    </tr>\n",
       "    <tr>\n",
       "      <th>1</th>\n",
       "      <td>Albania</td>\n",
       "      <td>89</td>\n",
       "      <td>132</td>\n",
       "      <td>54</td>\n",
       "      <td>4.9</td>\n",
       "      <td>Europe</td>\n",
       "    </tr>\n",
       "    <tr>\n",
       "      <th>2</th>\n",
       "      <td>Algeria</td>\n",
       "      <td>25</td>\n",
       "      <td>0</td>\n",
       "      <td>14</td>\n",
       "      <td>0.7</td>\n",
       "      <td>Africa</td>\n",
       "    </tr>\n",
       "    <tr>\n",
       "      <th>3</th>\n",
       "      <td>Andorra</td>\n",
       "      <td>245</td>\n",
       "      <td>138</td>\n",
       "      <td>312</td>\n",
       "      <td>12.4</td>\n",
       "      <td>Europe</td>\n",
       "    </tr>\n",
       "    <tr>\n",
       "      <th>4</th>\n",
       "      <td>Angola</td>\n",
       "      <td>217</td>\n",
       "      <td>57</td>\n",
       "      <td>45</td>\n",
       "      <td>5.9</td>\n",
       "      <td>Africa</td>\n",
       "    </tr>\n",
       "    <tr>\n",
       "      <th>...</th>\n",
       "      <td>...</td>\n",
       "      <td>...</td>\n",
       "      <td>...</td>\n",
       "      <td>...</td>\n",
       "      <td>...</td>\n",
       "      <td>...</td>\n",
       "    </tr>\n",
       "    <tr>\n",
       "      <th>188</th>\n",
       "      <td>Venezuela</td>\n",
       "      <td>333</td>\n",
       "      <td>100</td>\n",
       "      <td>3</td>\n",
       "      <td>7.7</td>\n",
       "      <td>South America</td>\n",
       "    </tr>\n",
       "    <tr>\n",
       "      <th>189</th>\n",
       "      <td>Vietnam</td>\n",
       "      <td>111</td>\n",
       "      <td>2</td>\n",
       "      <td>1</td>\n",
       "      <td>2.0</td>\n",
       "      <td>Asia</td>\n",
       "    </tr>\n",
       "    <tr>\n",
       "      <th>190</th>\n",
       "      <td>Yemen</td>\n",
       "      <td>6</td>\n",
       "      <td>0</td>\n",
       "      <td>0</td>\n",
       "      <td>0.1</td>\n",
       "      <td>Asia</td>\n",
       "    </tr>\n",
       "    <tr>\n",
       "      <th>191</th>\n",
       "      <td>Zambia</td>\n",
       "      <td>32</td>\n",
       "      <td>19</td>\n",
       "      <td>4</td>\n",
       "      <td>2.5</td>\n",
       "      <td>Africa</td>\n",
       "    </tr>\n",
       "    <tr>\n",
       "      <th>192</th>\n",
       "      <td>Zimbabwe</td>\n",
       "      <td>64</td>\n",
       "      <td>18</td>\n",
       "      <td>4</td>\n",
       "      <td>4.7</td>\n",
       "      <td>Africa</td>\n",
       "    </tr>\n",
       "  </tbody>\n",
       "</table>\n",
       "<p>193 rows × 6 columns</p>\n",
       "</div>"
      ],
      "text/plain": [
       "         country  beer_servings  spirit_servings  wine_servings  \\\n",
       "0    Afghanistan              0                0              0   \n",
       "1        Albania             89              132             54   \n",
       "2        Algeria             25                0             14   \n",
       "3        Andorra            245              138            312   \n",
       "4         Angola            217               57             45   \n",
       "..           ...            ...              ...            ...   \n",
       "188    Venezuela            333              100              3   \n",
       "189      Vietnam            111                2              1   \n",
       "190        Yemen              6                0              0   \n",
       "191       Zambia             32               19              4   \n",
       "192     Zimbabwe             64               18              4   \n",
       "\n",
       "     total_litres_of_pure_alcohol      continent  \n",
       "0                             0.0           Asia  \n",
       "1                             4.9         Europe  \n",
       "2                             0.7         Africa  \n",
       "3                            12.4         Europe  \n",
       "4                             5.9         Africa  \n",
       "..                            ...            ...  \n",
       "188                           7.7  South America  \n",
       "189                           2.0           Asia  \n",
       "190                           0.1           Asia  \n",
       "191                           2.5         Africa  \n",
       "192                           4.7         Africa  \n",
       "\n",
       "[193 rows x 6 columns]"
      ]
     },
     "execution_count": 11,
     "metadata": {},
     "output_type": "execute_result"
    }
   ],
   "source": [
    "df"
   ]
  },
  {
   "cell_type": "code",
   "execution_count": 12,
   "id": "8d7409bd",
   "metadata": {},
   "outputs": [
    {
     "data": {
      "text/plain": [
       "80.99481865284974"
      ]
     },
     "execution_count": 12,
     "metadata": {},
     "output_type": "execute_result"
    }
   ],
   "source": [
    "np.mean(df['spirit_servings'])"
   ]
  },
  {
   "cell_type": "code",
   "execution_count": 13,
   "id": "29274f22",
   "metadata": {},
   "outputs": [
    {
     "data": {
      "text/plain": [
       "56.0"
      ]
     },
     "execution_count": 13,
     "metadata": {},
     "output_type": "execute_result"
    }
   ],
   "source": [
    "np.median(df['spirit_servings'])"
   ]
  },
  {
   "cell_type": "code",
   "execution_count": 15,
   "id": "6cf612b7",
   "metadata": {},
   "outputs": [],
   "source": [
    "import statistics"
   ]
  },
  {
   "cell_type": "code",
   "execution_count": 16,
   "id": "6a8a8661",
   "metadata": {},
   "outputs": [
    {
     "data": {
      "text/plain": [
       "80.99481865284974"
      ]
     },
     "execution_count": 16,
     "metadata": {},
     "output_type": "execute_result"
    }
   ],
   "source": [
    "statistics.mean(df['spirit_servings'])"
   ]
  },
  {
   "cell_type": "code",
   "execution_count": 17,
   "id": "bb92d5ea",
   "metadata": {},
   "outputs": [
    {
     "data": {
      "text/plain": [
       "56"
      ]
     },
     "execution_count": 17,
     "metadata": {},
     "output_type": "execute_result"
    }
   ],
   "source": [
    "statistics.median(df['spirit_servings'])"
   ]
  },
  {
   "cell_type": "code",
   "execution_count": 22,
   "id": "324847dd",
   "metadata": {},
   "outputs": [
    {
     "data": {
      "text/plain": [
       "0"
      ]
     },
     "execution_count": 22,
     "metadata": {},
     "output_type": "execute_result"
    }
   ],
   "source": [
    "statistics.mode(df['spirit_servings'])"
   ]
  },
  {
   "cell_type": "code",
   "execution_count": 23,
   "id": "e6260e59",
   "metadata": {},
   "outputs": [
    {
     "data": {
      "text/html": [
       "<div>\n",
       "<style scoped>\n",
       "    .dataframe tbody tr th:only-of-type {\n",
       "        vertical-align: middle;\n",
       "    }\n",
       "\n",
       "    .dataframe tbody tr th {\n",
       "        vertical-align: top;\n",
       "    }\n",
       "\n",
       "    .dataframe thead th {\n",
       "        text-align: right;\n",
       "    }\n",
       "</style>\n",
       "<table border=\"1\" class=\"dataframe\">\n",
       "  <thead>\n",
       "    <tr style=\"text-align: right;\">\n",
       "      <th></th>\n",
       "      <th>country</th>\n",
       "      <th>beer_servings</th>\n",
       "      <th>spirit_servings</th>\n",
       "      <th>wine_servings</th>\n",
       "      <th>total_litres_of_pure_alcohol</th>\n",
       "      <th>continent</th>\n",
       "    </tr>\n",
       "  </thead>\n",
       "  <tbody>\n",
       "    <tr>\n",
       "      <th>0</th>\n",
       "      <td>Afghanistan</td>\n",
       "      <td>0</td>\n",
       "      <td>0</td>\n",
       "      <td>0</td>\n",
       "      <td>0.0</td>\n",
       "      <td>Asia</td>\n",
       "    </tr>\n",
       "    <tr>\n",
       "      <th>2</th>\n",
       "      <td>Algeria</td>\n",
       "      <td>25</td>\n",
       "      <td>0</td>\n",
       "      <td>14</td>\n",
       "      <td>0.7</td>\n",
       "      <td>Africa</td>\n",
       "    </tr>\n",
       "    <tr>\n",
       "      <th>13</th>\n",
       "      <td>Bangladesh</td>\n",
       "      <td>0</td>\n",
       "      <td>0</td>\n",
       "      <td>0</td>\n",
       "      <td>0.0</td>\n",
       "      <td>Asia</td>\n",
       "    </tr>\n",
       "    <tr>\n",
       "      <th>19</th>\n",
       "      <td>Bhutan</td>\n",
       "      <td>23</td>\n",
       "      <td>0</td>\n",
       "      <td>0</td>\n",
       "      <td>0.4</td>\n",
       "      <td>Asia</td>\n",
       "    </tr>\n",
       "    <tr>\n",
       "      <th>27</th>\n",
       "      <td>Burundi</td>\n",
       "      <td>88</td>\n",
       "      <td>0</td>\n",
       "      <td>0</td>\n",
       "      <td>6.3</td>\n",
       "      <td>Africa</td>\n",
       "    </tr>\n",
       "    <tr>\n",
       "      <th>46</th>\n",
       "      <td>North Korea</td>\n",
       "      <td>0</td>\n",
       "      <td>0</td>\n",
       "      <td>0</td>\n",
       "      <td>0.0</td>\n",
       "      <td>Asia</td>\n",
       "    </tr>\n",
       "    <tr>\n",
       "      <th>55</th>\n",
       "      <td>Equatorial Guinea</td>\n",
       "      <td>92</td>\n",
       "      <td>0</td>\n",
       "      <td>233</td>\n",
       "      <td>5.8</td>\n",
       "      <td>Africa</td>\n",
       "    </tr>\n",
       "    <tr>\n",
       "      <th>56</th>\n",
       "      <td>Eritrea</td>\n",
       "      <td>18</td>\n",
       "      <td>0</td>\n",
       "      <td>0</td>\n",
       "      <td>0.5</td>\n",
       "      <td>Africa</td>\n",
       "    </tr>\n",
       "    <tr>\n",
       "      <th>63</th>\n",
       "      <td>Gambia</td>\n",
       "      <td>8</td>\n",
       "      <td>0</td>\n",
       "      <td>1</td>\n",
       "      <td>2.4</td>\n",
       "      <td>Africa</td>\n",
       "    </tr>\n",
       "    <tr>\n",
       "      <th>70</th>\n",
       "      <td>Guinea</td>\n",
       "      <td>9</td>\n",
       "      <td>0</td>\n",
       "      <td>2</td>\n",
       "      <td>0.2</td>\n",
       "      <td>Africa</td>\n",
       "    </tr>\n",
       "    <tr>\n",
       "      <th>79</th>\n",
       "      <td>Iran</td>\n",
       "      <td>0</td>\n",
       "      <td>0</td>\n",
       "      <td>0</td>\n",
       "      <td>0.0</td>\n",
       "      <td>Asia</td>\n",
       "    </tr>\n",
       "    <tr>\n",
       "      <th>90</th>\n",
       "      <td>Kuwait</td>\n",
       "      <td>0</td>\n",
       "      <td>0</td>\n",
       "      <td>0</td>\n",
       "      <td>0.0</td>\n",
       "      <td>Asia</td>\n",
       "    </tr>\n",
       "    <tr>\n",
       "      <th>92</th>\n",
       "      <td>Laos</td>\n",
       "      <td>62</td>\n",
       "      <td>0</td>\n",
       "      <td>123</td>\n",
       "      <td>6.2</td>\n",
       "      <td>Asia</td>\n",
       "    </tr>\n",
       "    <tr>\n",
       "      <th>97</th>\n",
       "      <td>Libya</td>\n",
       "      <td>0</td>\n",
       "      <td>0</td>\n",
       "      <td>0</td>\n",
       "      <td>0.0</td>\n",
       "      <td>Africa</td>\n",
       "    </tr>\n",
       "    <tr>\n",
       "      <th>103</th>\n",
       "      <td>Maldives</td>\n",
       "      <td>0</td>\n",
       "      <td>0</td>\n",
       "      <td>0</td>\n",
       "      <td>0.0</td>\n",
       "      <td>Asia</td>\n",
       "    </tr>\n",
       "    <tr>\n",
       "      <th>106</th>\n",
       "      <td>Marshall Islands</td>\n",
       "      <td>0</td>\n",
       "      <td>0</td>\n",
       "      <td>0</td>\n",
       "      <td>0.0</td>\n",
       "      <td>Oceania</td>\n",
       "    </tr>\n",
       "    <tr>\n",
       "      <th>107</th>\n",
       "      <td>Mauritania</td>\n",
       "      <td>0</td>\n",
       "      <td>0</td>\n",
       "      <td>0</td>\n",
       "      <td>0.0</td>\n",
       "      <td>Africa</td>\n",
       "    </tr>\n",
       "    <tr>\n",
       "      <th>111</th>\n",
       "      <td>Monaco</td>\n",
       "      <td>0</td>\n",
       "      <td>0</td>\n",
       "      <td>0</td>\n",
       "      <td>0.0</td>\n",
       "      <td>Europe</td>\n",
       "    </tr>\n",
       "    <tr>\n",
       "      <th>118</th>\n",
       "      <td>Nauru</td>\n",
       "      <td>49</td>\n",
       "      <td>0</td>\n",
       "      <td>8</td>\n",
       "      <td>1.0</td>\n",
       "      <td>Oceania</td>\n",
       "    </tr>\n",
       "    <tr>\n",
       "      <th>128</th>\n",
       "      <td>Pakistan</td>\n",
       "      <td>0</td>\n",
       "      <td>0</td>\n",
       "      <td>0</td>\n",
       "      <td>0.0</td>\n",
       "      <td>Asia</td>\n",
       "    </tr>\n",
       "    <tr>\n",
       "      <th>147</th>\n",
       "      <td>San Marino</td>\n",
       "      <td>0</td>\n",
       "      <td>0</td>\n",
       "      <td>0</td>\n",
       "      <td>0.0</td>\n",
       "      <td>Europe</td>\n",
       "    </tr>\n",
       "    <tr>\n",
       "      <th>158</th>\n",
       "      <td>Somalia</td>\n",
       "      <td>0</td>\n",
       "      <td>0</td>\n",
       "      <td>0</td>\n",
       "      <td>0.0</td>\n",
       "      <td>Africa</td>\n",
       "    </tr>\n",
       "    <tr>\n",
       "      <th>190</th>\n",
       "      <td>Yemen</td>\n",
       "      <td>6</td>\n",
       "      <td>0</td>\n",
       "      <td>0</td>\n",
       "      <td>0.1</td>\n",
       "      <td>Asia</td>\n",
       "    </tr>\n",
       "  </tbody>\n",
       "</table>\n",
       "</div>"
      ],
      "text/plain": [
       "               country  beer_servings  spirit_servings  wine_servings  \\\n",
       "0          Afghanistan              0                0              0   \n",
       "2              Algeria             25                0             14   \n",
       "13          Bangladesh              0                0              0   \n",
       "19              Bhutan             23                0              0   \n",
       "27             Burundi             88                0              0   \n",
       "46         North Korea              0                0              0   \n",
       "55   Equatorial Guinea             92                0            233   \n",
       "56             Eritrea             18                0              0   \n",
       "63              Gambia              8                0              1   \n",
       "70              Guinea              9                0              2   \n",
       "79                Iran              0                0              0   \n",
       "90              Kuwait              0                0              0   \n",
       "92                Laos             62                0            123   \n",
       "97               Libya              0                0              0   \n",
       "103           Maldives              0                0              0   \n",
       "106   Marshall Islands              0                0              0   \n",
       "107         Mauritania              0                0              0   \n",
       "111             Monaco              0                0              0   \n",
       "118              Nauru             49                0              8   \n",
       "128           Pakistan              0                0              0   \n",
       "147         San Marino              0                0              0   \n",
       "158            Somalia              0                0              0   \n",
       "190              Yemen              6                0              0   \n",
       "\n",
       "     total_litres_of_pure_alcohol continent  \n",
       "0                             0.0      Asia  \n",
       "2                             0.7    Africa  \n",
       "13                            0.0      Asia  \n",
       "19                            0.4      Asia  \n",
       "27                            6.3    Africa  \n",
       "46                            0.0      Asia  \n",
       "55                            5.8    Africa  \n",
       "56                            0.5    Africa  \n",
       "63                            2.4    Africa  \n",
       "70                            0.2    Africa  \n",
       "79                            0.0      Asia  \n",
       "90                            0.0      Asia  \n",
       "92                            6.2      Asia  \n",
       "97                            0.0    Africa  \n",
       "103                           0.0      Asia  \n",
       "106                           0.0   Oceania  \n",
       "107                           0.0    Africa  \n",
       "111                           0.0    Europe  \n",
       "118                           1.0   Oceania  \n",
       "128                           0.0      Asia  \n",
       "147                           0.0    Europe  \n",
       "158                           0.0    Africa  \n",
       "190                           0.1      Asia  "
      ]
     },
     "execution_count": 23,
     "metadata": {},
     "output_type": "execute_result"
    }
   ],
   "source": [
    "df[df.spirit_servings==0]"
   ]
  },
  {
   "cell_type": "code",
   "execution_count": 24,
   "id": "ffdb09c8",
   "metadata": {},
   "outputs": [
    {
     "data": {
      "text/plain": [
       "<Axes: >"
      ]
     },
     "execution_count": 24,
     "metadata": {},
     "output_type": "execute_result"
    },
    {
     "data": {
      "image/png": "[encoded data removed]",
      "text/plain": [
       "<Figure size 640x480 with 1 Axes>"
      ]
     },
     "metadata": {},
     "output_type": "display_data"
    }
   ],
   "source": [
    "import seaborn as sns\n",
    "sns.boxplot(df['spirit_servings'])"
   ]
  },
  {
   "cell_type": "code",
   "execution_count": 30,
   "id": "6269c6c5",
   "metadata": {},
   "outputs": [
    {
     "data": {
      "text/plain": [
       "0"
      ]
     },
     "execution_count": 30,
     "metadata": {},
     "output_type": "execute_result"
    }
   ],
   "source": [
    "df['spirit_servings'].min()"
   ]
  },
  {
   "cell_type": "code",
   "execution_count": 31,
   "id": "6624cd55",
   "metadata": {},
   "outputs": [
    {
     "data": {
      "text/plain": [
       "438"
      ]
     },
     "execution_count": 31,
     "metadata": {},
     "output_type": "execute_result"
    }
   ],
   "source": [
    "df['spirit_servings'].max()"
   ]
  },
  {
   "cell_type": "markdown",
   "id": "11bdfe57",
   "metadata": {},
   "source": [
    "5 Number Summary"
   ]
  },
  {
   "cell_type": "code",
   "execution_count": 32,
   "id": "d1424a83",
   "metadata": {},
   "outputs": [],
   "source": [
    "q1,q3=np.percentile(df['spirit_servings'],[25,75])"
   ]
  },
  {
   "cell_type": "code",
   "execution_count": 33,
   "id": "e07801fd",
   "metadata": {},
   "outputs": [
    {
     "name": "stdout",
     "output_type": "stream",
     "text": [
      "4.0 128.0\n"
     ]
    }
   ],
   "source": [
    "print(q1,q3)"
   ]
  },
  {
   "cell_type": "code",
   "execution_count": 34,
   "id": "5891ceeb",
   "metadata": {},
   "outputs": [],
   "source": [
    "IQR=q3-q1"
   ]
  },
  {
   "cell_type": "code",
   "execution_count": 35,
   "id": "53ebf84b",
   "metadata": {},
   "outputs": [
    {
     "name": "stdout",
     "output_type": "stream",
     "text": [
      "-182.0 314.0\n"
     ]
    }
   ],
   "source": [
    "lower_fence=q1-1.5*(IQR)\n",
    "higher_fence=q3+1.5*(IQR)\n",
    "print(lower_fence,higher_fence)"
   ]
  },
  {
   "cell_type": "code",
   "execution_count": 36,
   "id": "acb18829",
   "metadata": {},
   "outputs": [],
   "source": [
    "df_filtered = df[(df['spirit_servings'] >= lower_fence) & (df['spirit_servings'] <= higher_fence)]"
   ]
  },
  {
   "cell_type": "code",
   "execution_count": 37,
   "id": "1401393e",
   "metadata": {},
   "outputs": [
    {
     "data": {
      "text/html": [
       "<div>\n",
       "<style scoped>\n",
       "    .dataframe tbody tr th:only-of-type {\n",
       "        vertical-align: middle;\n",
       "    }\n",
       "\n",
       "    .dataframe tbody tr th {\n",
       "        vertical-align: top;\n",
       "    }\n",
       "\n",
       "    .dataframe thead th {\n",
       "        text-align: right;\n",
       "    }\n",
       "</style>\n",
       "<table border=\"1\" class=\"dataframe\">\n",
       "  <thead>\n",
       "    <tr style=\"text-align: right;\">\n",
       "      <th></th>\n",
       "      <th>country</th>\n",
       "      <th>beer_servings</th>\n",
       "      <th>spirit_servings</th>\n",
       "      <th>wine_servings</th>\n",
       "      <th>total_litres_of_pure_alcohol</th>\n",
       "      <th>continent</th>\n",
       "    </tr>\n",
       "  </thead>\n",
       "  <tbody>\n",
       "    <tr>\n",
       "      <th>0</th>\n",
       "      <td>Afghanistan</td>\n",
       "      <td>0</td>\n",
       "      <td>0</td>\n",
       "      <td>0</td>\n",
       "      <td>0.0</td>\n",
       "      <td>Asia</td>\n",
       "    </tr>\n",
       "    <tr>\n",
       "      <th>1</th>\n",
       "      <td>Albania</td>\n",
       "      <td>89</td>\n",
       "      <td>132</td>\n",
       "      <td>54</td>\n",
       "      <td>4.9</td>\n",
       "      <td>Europe</td>\n",
       "    </tr>\n",
       "    <tr>\n",
       "      <th>2</th>\n",
       "      <td>Algeria</td>\n",
       "      <td>25</td>\n",
       "      <td>0</td>\n",
       "      <td>14</td>\n",
       "      <td>0.7</td>\n",
       "      <td>Africa</td>\n",
       "    </tr>\n",
       "    <tr>\n",
       "      <th>3</th>\n",
       "      <td>Andorra</td>\n",
       "      <td>245</td>\n",
       "      <td>138</td>\n",
       "      <td>312</td>\n",
       "      <td>12.4</td>\n",
       "      <td>Europe</td>\n",
       "    </tr>\n",
       "    <tr>\n",
       "      <th>4</th>\n",
       "      <td>Angola</td>\n",
       "      <td>217</td>\n",
       "      <td>57</td>\n",
       "      <td>45</td>\n",
       "      <td>5.9</td>\n",
       "      <td>Africa</td>\n",
       "    </tr>\n",
       "    <tr>\n",
       "      <th>...</th>\n",
       "      <td>...</td>\n",
       "      <td>...</td>\n",
       "      <td>...</td>\n",
       "      <td>...</td>\n",
       "      <td>...</td>\n",
       "      <td>...</td>\n",
       "    </tr>\n",
       "    <tr>\n",
       "      <th>188</th>\n",
       "      <td>Venezuela</td>\n",
       "      <td>333</td>\n",
       "      <td>100</td>\n",
       "      <td>3</td>\n",
       "      <td>7.7</td>\n",
       "      <td>South America</td>\n",
       "    </tr>\n",
       "    <tr>\n",
       "      <th>189</th>\n",
       "      <td>Vietnam</td>\n",
       "      <td>111</td>\n",
       "      <td>2</td>\n",
       "      <td>1</td>\n",
       "      <td>2.0</td>\n",
       "      <td>Asia</td>\n",
       "    </tr>\n",
       "    <tr>\n",
       "      <th>190</th>\n",
       "      <td>Yemen</td>\n",
       "      <td>6</td>\n",
       "      <td>0</td>\n",
       "      <td>0</td>\n",
       "      <td>0.1</td>\n",
       "      <td>Asia</td>\n",
       "    </tr>\n",
       "    <tr>\n",
       "      <th>191</th>\n",
       "      <td>Zambia</td>\n",
       "      <td>32</td>\n",
       "      <td>19</td>\n",
       "      <td>4</td>\n",
       "      <td>2.5</td>\n",
       "      <td>Africa</td>\n",
       "    </tr>\n",
       "    <tr>\n",
       "      <th>192</th>\n",
       "      <td>Zimbabwe</td>\n",
       "      <td>64</td>\n",
       "      <td>18</td>\n",
       "      <td>4</td>\n",
       "      <td>4.7</td>\n",
       "      <td>Africa</td>\n",
       "    </tr>\n",
       "  </tbody>\n",
       "</table>\n",
       "<p>188 rows × 6 columns</p>\n",
       "</div>"
      ],
      "text/plain": [
       "         country  beer_servings  spirit_servings  wine_servings  \\\n",
       "0    Afghanistan              0                0              0   \n",
       "1        Albania             89              132             54   \n",
       "2        Algeria             25                0             14   \n",
       "3        Andorra            245              138            312   \n",
       "4         Angola            217               57             45   \n",
       "..           ...            ...              ...            ...   \n",
       "188    Venezuela            333              100              3   \n",
       "189      Vietnam            111                2              1   \n",
       "190        Yemen              6                0              0   \n",
       "191       Zambia             32               19              4   \n",
       "192     Zimbabwe             64               18              4   \n",
       "\n",
       "     total_litres_of_pure_alcohol      continent  \n",
       "0                             0.0           Asia  \n",
       "1                             4.9         Europe  \n",
       "2                             0.7         Africa  \n",
       "3                            12.4         Europe  \n",
       "4                             5.9         Africa  \n",
       "..                            ...            ...  \n",
       "188                           7.7  South America  \n",
       "189                           2.0           Asia  \n",
       "190                           0.1           Asia  \n",
       "191                           2.5         Africa  \n",
       "192                           4.7         Africa  \n",
       "\n",
       "[188 rows x 6 columns]"
      ]
     },
     "execution_count": 37,
     "metadata": {},
     "output_type": "execute_result"
    }
   ],
   "source": [
    "df_filtered "
   ]
  },
  {
   "cell_type": "code",
   "execution_count": 38,
   "id": "49eaabe3",
   "metadata": {},
   "outputs": [
    {
     "data": {
      "text/plain": [
       "<Axes: >"
      ]
     },
     "execution_count": 38,
     "metadata": {},
     "output_type": "execute_result"
    },
    {
     "data": {
      "image/png": "[encoded data removed]",
      "text/plain": [
       "<Figure size 640x480 with 1 Axes>"
      ]
     },
     "metadata": {},
     "output_type": "display_data"
    }
   ],
   "source": [
    "sns.boxplot(df_filtered['spirit_servings'])"
   ]
  },
  {
   "cell_type": "code",
   "execution_count": 46,
   "id": "ddbec956",
   "metadata": {},
   "outputs": [
    {
     "data": {
      "text/html": [
       "<div>\n",
       "<style scoped>\n",
       "    .dataframe tbody tr th:only-of-type {\n",
       "        vertical-align: middle;\n",
       "    }\n",
       "\n",
       "    .dataframe tbody tr th {\n",
       "        vertical-align: top;\n",
       "    }\n",
       "\n",
       "    .dataframe thead th {\n",
       "        text-align: right;\n",
       "    }\n",
       "</style>\n",
       "<table border=\"1\" class=\"dataframe\">\n",
       "  <thead>\n",
       "    <tr style=\"text-align: right;\">\n",
       "      <th></th>\n",
       "      <th>country</th>\n",
       "      <th>beer_servings</th>\n",
       "      <th>spirit_servings</th>\n",
       "      <th>wine_servings</th>\n",
       "      <th>total_litres_of_pure_alcohol</th>\n",
       "      <th>continent</th>\n",
       "    </tr>\n",
       "  </thead>\n",
       "  <tbody>\n",
       "    <tr>\n",
       "      <th>0</th>\n",
       "      <td>Afghanistan</td>\n",
       "      <td>0</td>\n",
       "      <td>0</td>\n",
       "      <td>0</td>\n",
       "      <td>0.0</td>\n",
       "      <td>Asia</td>\n",
       "    </tr>\n",
       "    <tr>\n",
       "      <th>27</th>\n",
       "      <td>Burundi</td>\n",
       "      <td>88</td>\n",
       "      <td>0</td>\n",
       "      <td>0</td>\n",
       "      <td>6.3</td>\n",
       "      <td>Africa</td>\n",
       "    </tr>\n",
       "    <tr>\n",
       "      <th>128</th>\n",
       "      <td>Pakistan</td>\n",
       "      <td>0</td>\n",
       "      <td>0</td>\n",
       "      <td>0</td>\n",
       "      <td>0.0</td>\n",
       "      <td>Asia</td>\n",
       "    </tr>\n",
       "    <tr>\n",
       "      <th>118</th>\n",
       "      <td>Nauru</td>\n",
       "      <td>49</td>\n",
       "      <td>0</td>\n",
       "      <td>8</td>\n",
       "      <td>1.0</td>\n",
       "      <td>Oceania</td>\n",
       "    </tr>\n",
       "    <tr>\n",
       "      <th>46</th>\n",
       "      <td>North Korea</td>\n",
       "      <td>0</td>\n",
       "      <td>0</td>\n",
       "      <td>0</td>\n",
       "      <td>0.0</td>\n",
       "      <td>Asia</td>\n",
       "    </tr>\n",
       "    <tr>\n",
       "      <th>...</th>\n",
       "      <td>...</td>\n",
       "      <td>...</td>\n",
       "      <td>...</td>\n",
       "      <td>...</td>\n",
       "      <td>...</td>\n",
       "      <td>...</td>\n",
       "    </tr>\n",
       "    <tr>\n",
       "      <th>40</th>\n",
       "      <td>Cook Islands</td>\n",
       "      <td>0</td>\n",
       "      <td>254</td>\n",
       "      <td>74</td>\n",
       "      <td>5.9</td>\n",
       "      <td>Oceania</td>\n",
       "    </tr>\n",
       "    <tr>\n",
       "      <th>169</th>\n",
       "      <td>Thailand</td>\n",
       "      <td>99</td>\n",
       "      <td>258</td>\n",
       "      <td>1</td>\n",
       "      <td>6.4</td>\n",
       "      <td>Asia</td>\n",
       "    </tr>\n",
       "    <tr>\n",
       "      <th>50</th>\n",
       "      <td>Dominica</td>\n",
       "      <td>52</td>\n",
       "      <td>286</td>\n",
       "      <td>26</td>\n",
       "      <td>6.6</td>\n",
       "      <td>North America</td>\n",
       "    </tr>\n",
       "    <tr>\n",
       "      <th>155</th>\n",
       "      <td>Slovakia</td>\n",
       "      <td>196</td>\n",
       "      <td>293</td>\n",
       "      <td>116</td>\n",
       "      <td>11.4</td>\n",
       "      <td>Europe</td>\n",
       "    </tr>\n",
       "    <tr>\n",
       "      <th>72</th>\n",
       "      <td>Guyana</td>\n",
       "      <td>93</td>\n",
       "      <td>302</td>\n",
       "      <td>1</td>\n",
       "      <td>7.1</td>\n",
       "      <td>South America</td>\n",
       "    </tr>\n",
       "  </tbody>\n",
       "</table>\n",
       "<p>188 rows × 6 columns</p>\n",
       "</div>"
      ],
      "text/plain": [
       "          country  beer_servings  spirit_servings  wine_servings  \\\n",
       "0     Afghanistan              0                0              0   \n",
       "27        Burundi             88                0              0   \n",
       "128      Pakistan              0                0              0   \n",
       "118         Nauru             49                0              8   \n",
       "46    North Korea              0                0              0   \n",
       "..            ...            ...              ...            ...   \n",
       "40   Cook Islands              0              254             74   \n",
       "169      Thailand             99              258              1   \n",
       "50       Dominica             52              286             26   \n",
       "155      Slovakia            196              293            116   \n",
       "72         Guyana             93              302              1   \n",
       "\n",
       "     total_litres_of_pure_alcohol      continent  \n",
       "0                             0.0           Asia  \n",
       "27                            6.3         Africa  \n",
       "128                           0.0           Asia  \n",
       "118                           1.0        Oceania  \n",
       "46                            0.0           Asia  \n",
       "..                            ...            ...  \n",
       "40                            5.9        Oceania  \n",
       "169                           6.4           Asia  \n",
       "50                            6.6  North America  \n",
       "155                          11.4         Europe  \n",
       "72                            7.1  South America  \n",
       "\n",
       "[188 rows x 6 columns]"
      ]
     },
     "execution_count": 46,
     "metadata": {},
     "output_type": "execute_result"
    }
   ],
   "source": [
    "df_filtered.sort_values('spirit_servings',ascending=True)"
   ]
  },
  {
   "cell_type": "markdown",
   "id": "1d24265c",
   "metadata": {},
   "source": [
    "**Measure of Dispersion**"
   ]
  },
  {
   "cell_type": "code",
   "execution_count": 49,
   "id": "c4bbd688",
   "metadata": {},
   "outputs": [
    {
     "data": {
      "text/plain": [
       "5845.266523313718"
      ]
     },
     "execution_count": 49,
     "metadata": {},
     "output_type": "execute_result"
    }
   ],
   "source": [
    " np.var(df_filtered['spirit_servings'])    ##population variance  here it use n"
   ]
  },
  {
   "cell_type": "code",
   "execution_count": 51,
   "id": "56bbdd7a",
   "metadata": {},
   "outputs": [
    {
     "data": {
      "text/plain": [
       "5876.5246330640575"
      ]
     },
     "execution_count": 51,
     "metadata": {},
     "output_type": "execute_result"
    }
   ],
   "source": [
    "statistics.variance(df_filtered['spirit_servings'])    ##sample variance in this it caluclate by divide the deviation by(n-1)"
   ]
  },
  {
   "cell_type": "code",
   "execution_count": 55,
   "id": "04affee1",
   "metadata": {},
   "outputs": [],
   "source": [
    "def variance(data):\n",
    "    n=len(data)\n",
    "    mean=sum(data)/n\n",
    "    ##variance\n",
    "    deviation=[(x-mean)**2 for x in data]\n",
    "    variance=sum(deviation)/(n-1)\n",
    "    return variance"
   ]
  },
  {
   "cell_type": "code",
   "execution_count": 56,
   "id": "28654d22",
   "metadata": {},
   "outputs": [
    {
     "data": {
      "text/plain": [
       "5876.524633064058"
      ]
     },
     "execution_count": 56,
     "metadata": {},
     "output_type": "execute_result"
    }
   ],
   "source": [
    "variance(df_filtered['spirit_servings'])"
   ]
  },
  {
   "cell_type": "code",
   "execution_count": 57,
   "id": "a78c9aee",
   "metadata": {},
   "outputs": [],
   "source": [
    "def variance(data,dof=0):\n",
    "    n=len(data)\n",
    "    mean=sum(data)/n\n",
    "    ##variance\n",
    "    deviation=[(x-mean)**2 for x in data]\n",
    "    variance=sum(deviation)/(n-dof)\n",
    "    return variance"
   ]
  },
  {
   "cell_type": "code",
   "execution_count": 58,
   "id": "641aa638",
   "metadata": {},
   "outputs": [
    {
     "data": {
      "text/plain": [
       "5876.524633064058"
      ]
     },
     "execution_count": 58,
     "metadata": {},
     "output_type": "execute_result"
    }
   ],
   "source": [
    "variance(df_filtered['spirit_servings'],dof=1)   ##sample variance"
   ]
  },
  {
   "cell_type": "code",
   "execution_count": 60,
   "id": "12e4c169",
   "metadata": {},
   "outputs": [
    {
     "data": {
      "text/plain": [
       "5845.266523313718"
      ]
     },
     "execution_count": 60,
     "metadata": {},
     "output_type": "execute_result"
    }
   ],
   "source": [
    "variance(df_filtered['spirit_servings'],dof=0)   #population variance"
   ]
  },
  {
   "cell_type": "code",
   "execution_count": 62,
   "id": "8db5d3f5",
   "metadata": {},
   "outputs": [
    {
     "data": {
      "text/plain": [
       "5845.266523313717"
      ]
     },
     "execution_count": 62,
     "metadata": {},
     "output_type": "execute_result"
    }
   ],
   "source": [
    "statistics.pvariance(df_filtered['spirit_servings'])   ##populationvariance"
   ]
  },
  {
   "cell_type": "markdown",
   "id": "0eddc93a",
   "metadata": {},
   "source": [
    "**Histograms and pdf**"
   ]
  },
  {
   "cell_type": "code",
   "execution_count": 92,
   "id": "c4ddf133",
   "metadata": {},
   "outputs": [
    {
     "name": "stderr",
     "output_type": "stream",
     "text": [
      "C:\\Users\\dell\\anaconda3\\Lib\\site-packages\\pandas\\core\\arraylike.py:402: RuntimeWarning: divide by zero encountered in log\n",
      "  result = getattr(ufunc, method)(*inputs, **kwargs)\n"
     ]
    },
    {
     "data": {
      "text/plain": [
       "<Axes: xlabel='spirit_servings', ylabel='Count'>"
      ]
     },
     "execution_count": 92,
     "metadata": {},
     "output_type": "execute_result"
    },
    {
     "data": {
      "image/png": "[encoded data removed]",
      "text/plain": [
       "<Figure size 640x480 with 1 Axes>"
      ]
     },
     "metadata": {},
     "output_type": "display_data"
    }
   ],
   "source": [
    "sns.histplot(np.log(df_filtered['spirit_servings']),kde=True)"
   ]
  },
  {
   "cell_type": "code",
   "execution_count": 74,
   "id": "beb7d20c",
   "metadata": {},
   "outputs": [],
   "source": [
    "## create a normal distributed data \n",
    "s=np.random.normal(0.5,0.2,500)"
   ]
  },
  {
   "cell_type": "code",
   "execution_count": 75,
   "id": "67dc9359",
   "metadata": {},
   "outputs": [
    {
     "data": {
      "text/plain": [
       "array([ 0.34507611,  0.79287558,  0.65464712,  0.58752762,  0.50269261,\n",
       "        0.44275106,  0.67500956,  0.31351634,  0.72386891,  0.48686638,\n",
       "        0.51485684,  0.37643214,  0.30201737,  0.34733944,  0.52925058,\n",
       "        0.52986228,  0.38443499,  0.29597652,  0.02892797,  0.32896871,\n",
       "        0.29070249,  0.46169172,  0.25777263,  0.61064672,  0.90205016,\n",
       "        0.48521385,  0.41055204,  0.80221329,  0.45660705,  0.24447338,\n",
       "        0.64141194,  0.47595233,  0.53671107,  0.77372632,  0.37729503,\n",
       "        0.31861594,  0.56770085,  0.39202527,  0.38398645,  0.15560863,\n",
       "        0.12193229,  0.41062521,  0.36972573,  0.38708937,  0.5673267 ,\n",
       "        0.48310405,  0.24060353,  0.4409121 ,  0.14504693,  0.53968571,\n",
       "        0.65120036,  0.51190928,  0.46184034,  0.30673393,  0.56969128,\n",
       "        0.53578062,  0.38254213,  0.63877091,  0.21762351,  0.47856468,\n",
       "        0.18715291,  0.31080548,  0.28885751,  0.41708934,  0.45017053,\n",
       "        0.3509172 ,  0.41657015,  0.30448433,  0.48597892,  0.69456633,\n",
       "        0.40676543,  0.55898892,  0.49165252,  0.61464058,  0.31398691,\n",
       "        0.5599947 ,  0.46467814,  0.35021228,  0.38628458,  0.20195951,\n",
       "        0.65649243,  0.21479478,  0.61911164,  0.529149  ,  0.58166695,\n",
       "        0.8035583 ,  0.69570872,  0.45714467,  0.35776146,  0.30534287,\n",
       "        0.12505014,  0.28017108,  0.74756773,  1.19235516,  0.22371828,\n",
       "        0.68284161,  0.70381298,  0.59715323,  0.54774695,  0.48677368,\n",
       "        0.76485127,  0.62550834,  0.33020796,  0.8363863 ,  0.73468503,\n",
       "        0.62659227,  0.58556361,  0.78036787,  0.10827186,  0.73319448,\n",
       "        0.49084666,  0.72772841,  0.53909874,  0.99593133,  0.65175527,\n",
       "        0.54685133,  0.69567369,  0.78855967,  0.36278593,  0.52542245,\n",
       "        0.18600322,  0.14497056,  0.9872526 ,  0.8510062 ,  0.71058893,\n",
       "        0.47286519,  0.47000678,  0.16049274,  0.62341792,  0.65932045,\n",
       "        0.33241009,  0.28712128,  0.65530858,  0.80391064,  0.50103169,\n",
       "        0.41038369,  0.61447976,  0.2571934 ,  0.47852347,  0.4710908 ,\n",
       "        0.73074755,  0.69364485,  0.67694545,  0.74453841,  0.11118821,\n",
       "        0.183192  ,  0.40390413,  0.54530644,  0.76006227,  0.54367453,\n",
       "        0.52334118,  0.60710739,  0.91454196,  0.7567463 ,  0.86116993,\n",
       "        0.53977978,  0.39742509,  0.10961151,  0.71812363,  0.47895253,\n",
       "        0.60589038,  0.296546  ,  0.60861832,  0.38955374,  0.49361394,\n",
       "        0.15977657,  0.43754133,  0.52085716,  0.14120502,  0.57330696,\n",
       "        0.43173423,  0.53889935,  0.6654603 ,  0.64099491,  0.35284551,\n",
       "        0.1489601 ,  0.27903688,  0.52099576,  0.6812862 ,  0.29226954,\n",
       "        0.78379174,  0.28287253,  0.53217521,  0.44496326,  0.74897801,\n",
       "        0.43900493,  0.63047743,  0.38348428,  0.60205107,  0.44759661,\n",
       "        0.27504205,  0.53823457,  0.42222743,  0.67409736,  0.5964834 ,\n",
       "        0.50026058,  0.52600876,  0.18118026,  0.6257386 ,  0.20404463,\n",
       "        0.42545751,  0.27110609,  0.23495219,  0.55899983,  0.24442627,\n",
       "        0.7924038 ,  0.6590982 ,  0.60285257,  0.6217782 ,  0.50680274,\n",
       "        0.48583821,  0.62318898,  0.63798612,  0.61238556,  0.60957647,\n",
       "        0.55289443,  0.85275483,  0.32400916,  0.56632353,  0.45909886,\n",
       "        0.48045032,  0.51860734,  0.15365368,  0.87612865,  0.53979554,\n",
       "        0.40636835,  0.59843232,  0.28294436,  0.82780991,  0.37472686,\n",
       "        0.69332507,  0.57365917,  0.34066342,  0.81763035,  0.41321993,\n",
       "        0.38386523,  0.52300928,  0.75213121,  0.37959635,  0.56868724,\n",
       "        0.52951613,  0.74091897,  0.30164432,  0.83584402,  0.61565012,\n",
       "        0.19762827,  0.48247722,  0.35785525,  0.52053411,  0.37951386,\n",
       "        0.41133974,  0.60353959,  0.61213383,  0.25900834,  0.72832766,\n",
       "        0.86929467,  0.85637922,  0.39906023,  0.6860235 ,  0.41720123,\n",
       "        0.44454356,  0.40383262,  0.33093819,  0.70505283,  0.49472295,\n",
       "        0.08570436,  0.45555152,  0.31439881, -0.09504527,  0.80106032,\n",
       "        0.34502802,  0.42230703,  0.24536226,  0.83001972,  0.46907385,\n",
       "        0.23908196,  0.85793368,  0.5397906 ,  0.49194129,  0.24800014,\n",
       "        0.6996611 ,  0.21735799,  0.56948297,  0.62343003,  0.5640502 ,\n",
       "        0.4926671 ,  0.68333364,  0.3692808 ,  0.22930655,  0.46551326,\n",
       "        0.34638265,  0.48170416,  0.43056933,  0.50093091,  0.44444322,\n",
       "        0.40181196,  0.23003   ,  0.01197226,  0.53926837,  0.79406406,\n",
       "        0.40796613,  0.47386301,  0.78529165,  0.5119625 ,  0.71717279,\n",
       "        0.55588128,  0.5644355 ,  0.40494956,  0.41339111,  0.24482929,\n",
       "        0.7441292 ,  0.46624935,  0.38196451,  0.2019343 ,  0.18643417,\n",
       "        0.86640369,  0.55250925,  0.93360688,  0.31184605,  0.57439483,\n",
       "        0.47721563,  0.67151212,  0.21046482,  0.63548885,  0.44922531,\n",
       "        0.5955121 ,  0.65817364,  0.13722819,  0.75601763,  0.26406682,\n",
       "        0.17225523,  0.73325067,  0.77286409,  0.53477947,  0.29317198,\n",
       "        0.59108602,  0.30095833,  0.37740001,  0.57101975,  0.57450842,\n",
       "        0.54874496,  0.66950291,  0.1687888 ,  0.62792171,  0.69498334,\n",
       "        0.75831586,  0.14855742,  0.47983653,  0.39189693,  0.62358497,\n",
       "        0.57395685,  0.6291881 ,  0.48994289,  0.77609249,  0.38383077,\n",
       "        0.42774857,  0.68765047,  0.79467824,  0.24163147,  0.40065951,\n",
       "        0.51206796,  0.31628955,  0.66119899,  0.75659589,  0.76787837,\n",
       "        0.51803028,  0.61117894,  0.26542794,  0.33055805,  0.41136046,\n",
       "        0.69348958,  0.50321206,  0.32341364,  0.04795567,  0.76219674,\n",
       "        0.9161166 ,  0.83827667,  0.32673707,  0.38126989,  0.4928729 ,\n",
       "        0.60649877,  0.26565251,  0.59008897,  0.50035654,  0.85240961,\n",
       "        0.46473527,  0.28449484,  1.16429047,  0.34722876,  0.36340539,\n",
       "        0.20681032,  0.68257483,  0.78106639,  0.42639173,  0.67225793,\n",
       "        0.19188506,  0.61186657,  0.70752721,  0.68364434,  0.34009013,\n",
       "        0.02501791,  0.61393427,  0.59584495,  0.13689408,  0.59283427,\n",
       "        0.47830423,  0.57928853,  0.22001715,  0.21644808,  0.0600949 ,\n",
       "        0.44590261,  0.50606728,  0.29831331,  0.44196918,  0.70031535,\n",
       "        0.97749072,  0.40849484,  0.52473981,  0.62146161,  0.4159846 ,\n",
       "       -0.13191966,  0.31244188,  0.66606097,  0.47560381,  0.60445796,\n",
       "        0.80171539,  0.8212987 ,  0.82572165,  0.03846946,  0.56547976,\n",
       "        0.20355019,  0.56052003,  0.29533171,  0.76868018,  0.4636422 ,\n",
       "        0.43639476,  0.64582832,  0.51275485,  0.5913774 ,  0.58956492,\n",
       "        0.58239306,  0.34149672,  0.90675012,  0.55420878,  0.80870663,\n",
       "        0.51793473,  0.46386231,  0.86253053,  0.694353  ,  0.65622626,\n",
       "        0.47493196,  0.38558634,  0.45442683,  0.38414681,  0.70448529,\n",
       "        0.27800541,  0.59371944,  0.74100223,  0.66475188,  0.73605198,\n",
       "        0.79152816,  0.43591429,  0.34960116,  0.64067307,  0.49994231,\n",
       "        0.48060234,  0.58067836,  0.84028497,  0.31774854, -0.05790269,\n",
       "        0.70170995,  0.66811517,  0.48366945,  0.23287906,  0.86642961,\n",
       "        0.48838598,  0.38276403,  0.30026315,  0.54006669,  0.8139892 ,\n",
       "        0.55479877,  0.05187973,  0.32354667,  0.25844377,  0.2001831 ,\n",
       "        0.35554207,  0.35077732,  0.29707739,  0.70985546,  0.73215033,\n",
       "        0.51641371,  0.76226665,  0.82715806,  0.75862511,  0.3694199 ,\n",
       "        0.9556814 ,  0.28477292,  0.28695764,  0.42107313,  0.46545292])"
      ]
     },
     "execution_count": 75,
     "metadata": {},
     "output_type": "execute_result"
    }
   ],
   "source": [
    "s"
   ]
  },
  {
   "cell_type": "code",
   "execution_count": 76,
   "id": "a803db2e",
   "metadata": {},
   "outputs": [
    {
     "data": {
      "text/plain": [
       "<Axes: ylabel='Count'>"
      ]
     },
     "execution_count": 76,
     "metadata": {},
     "output_type": "execute_result"
    },
    {
     "data": {
      "image/png": "[encoded data removed]",
      "text/plain": [
       "<Figure size 640x480 with 1 Axes>"
      ]
     },
     "metadata": {},
     "output_type": "display_data"
    }
   ],
   "source": [
    "sns.histplot(s,kde=True)"
   ]
  },
  {
   "cell_type": "markdown",
   "id": "fea44a08",
   "metadata": {},
   "source": [
    "Other DIstribution \n",
    "\n",
    "Log Normal Distribution, Power Law Distribution\n"
   ]
  },
  {
   "cell_type": "code",
   "execution_count": 79,
   "id": "4544b753",
   "metadata": {},
   "outputs": [],
   "source": [
    "mu,sigma=3.,1.   ##mean and standard deviation\n",
    "s_log=np.random.lognormal(mu,sigma,100)"
   ]
  },
  {
   "cell_type": "code",
   "execution_count": 91,
   "id": "919c6977",
   "metadata": {},
   "outputs": [
    {
     "data": {
      "text/plain": [
       "<Axes: ylabel='Count'>"
      ]
     },
     "execution_count": 91,
     "metadata": {},
     "output_type": "execute_result"
    },
    {
     "data": {
      "image/png": "[encoded data removed]",
      "text/plain": [
       "<Figure size 640x480 with 1 Axes>"
      ]
     },
     "metadata": {},
     "output_type": "display_data"
    }
   ],
   "source": [
    "sns.histplot(s_log,kde=True)"
   ]
  },
  {
   "cell_type": "code",
   "execution_count": 82,
   "id": "35cccdb1",
   "metadata": {},
   "outputs": [
    {
     "data": {
      "text/plain": [
       "<Axes: ylabel='Count'>"
      ]
     },
     "execution_count": 82,
     "metadata": {},
     "output_type": "execute_result"
    },
    {
     "data": {
      "image/png": "[encoded data removed]",
      "text/plain": [
       "<Figure size 640x480 with 1 Axes>"
      ]
     },
     "metadata": {},
     "output_type": "display_data"
    }
   ],
   "source": [
    "sns.histplot(np.log(s_log),kde=True)"
   ]
  },
  {
   "cell_type": "markdown",
   "id": "73aa6426",
   "metadata": {},
   "source": [
    "**Check  whether Distribution is Normal Distribution**"
   ]
  },
  {
   "cell_type": "code",
   "execution_count": 83,
   "id": "f09710da",
   "metadata": {},
   "outputs": [],
   "source": [
    "import matplotlib.pyplot as plt\n",
    "import scipy.stats as stat\n",
    "import pylab\n",
    "def plot_data(sample):\n",
    "    plt.figure(figsize=(10,6))\n",
    "    plt.subplot(1,2,1)\n",
    "    sns.histplot(sample)\n",
    "    plt.subplot(1,2,2)\n",
    "    stat.probplot(sample,dist='norm',plot=pylab)\n",
    "    plt.show()"
   ]
  },
  {
   "cell_type": "code",
   "execution_count": 85,
   "id": "80e79620",
   "metadata": {},
   "outputs": [
    {
     "data": {
      "image/png": "[encoded data removed]",
      "text/plain": [
       "<Figure size 1000x600 with 2 Axes>"
      ]
     },
     "metadata": {},
     "output_type": "display_data"
    }
   ],
   "source": [
    "## create a normal distributed data \n",
    "s=np.random.normal(0.5,0.2,1000)\n",
    "plot_data(s)"
   ]
  },
  {
   "cell_type": "code",
   "execution_count": 86,
   "id": "b86a1ea0",
   "metadata": {},
   "outputs": [
    {
     "data": {
      "image/png": "[encoded data removed]",
      "text/plain": [
       "<Figure size 1000x600 with 2 Axes>"
      ]
     },
     "metadata": {},
     "output_type": "display_data"
    }
   ],
   "source": [
    "plot_data(df_filtered['spirit_servings'])"
   ]
  },
  {
   "cell_type": "code",
   "execution_count": 87,
   "id": "3f816a24",
   "metadata": {},
   "outputs": [],
   "source": [
    "import matplotlib.pyplot as plt\n",
    "import scipy.stats as stat\n",
    "import pylab\n",
    "def plot_data_log(sample):\n",
    "    plt.figure(figsize=(10,6))\n",
    "    plt.subplot(1,2,1)\n",
    "    sns.histplot(sample)\n",
    "    plt.subplot(1,2,2)\n",
    "    stat.probplot(np.log(sample),dist='norm',plot=pylab)\n",
    "    plt.show()"
   ]
  },
  {
   "cell_type": "code",
   "execution_count": 89,
   "id": "368916be",
   "metadata": {},
   "outputs": [
    {
     "name": "stderr",
     "output_type": "stream",
     "text": [
      "C:\\Users\\dell\\anaconda3\\Lib\\site-packages\\pandas\\core\\arraylike.py:402: RuntimeWarning: divide by zero encountered in log\n",
      "  result = getattr(ufunc, method)(*inputs, **kwargs)\n",
      "C:\\Users\\dell\\anaconda3\\Lib\\site-packages\\numpy\\lib\\function_base.py:2699: RuntimeWarning: invalid value encountered in subtract\n",
      "  X -= avg[:, None]\n"
     ]
    },
    {
     "data": {
      "image/png": "[encoded data removed]",
      "text/plain": [
       "<Figure size 1000x600 with 2 Axes>"
      ]
     },
     "metadata": {},
     "output_type": "display_data"
    }
   ],
   "source": [
    "plot_data_log(df_filtered['spirit_servings'])"
   ]
  },
  {
   "cell_type": "code",
   "execution_count": null,
   "id": "4b009179",
   "metadata": {},
   "outputs": [],
   "source": []
  }
 ],
 "metadata": {
  "kernelspec": {
   "display_name": "Python 3 (ipykernel)",
   "language": "python",
   "name": "python3"
  },
  "language_info": {
   "codemirror_mode": {
    "name": "ipython",
    "version": 3
   },
   "file_extension": ".py",
   "mimetype": "text/x-python",
   "name": "python",
   "nbconvert_exporter": "python",
   "pygments_lexer": "ipython3",
   "version": "3.11.4"
  }
 },
 "nbformat": 4,
 "nbformat_minor": 5
}
